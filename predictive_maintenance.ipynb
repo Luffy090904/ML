{
 "cells": [
  {
   "cell_type": "code",
   "execution_count": 1,
   "id": "2c2796b3",
   "metadata": {},
   "outputs": [],
   "source": [
    "import numpy as np\n",
    "import pandas as pd\n",
    "import matplotlib.pyplot as plt\n",
    "%matplotlib inline\n",
    "import seaborn as sns\n",
    "import warnings\n",
    "import matplotlib\n",
    "warnings.filterwarnings(\"ignore\")\n",
    "pd.set_option(\"display.max_rows\",None)\n",
    "pd.set_option(\"display.max_columns\",None)\n"
   ]
  },
  {
   "cell_type": "code",
   "execution_count": 2,
   "id": "fc7516c7",
   "metadata": {},
   "outputs": [],
   "source": [
    "plt.style.use('dark_background')"
   ]
  },
  {
   "cell_type": "code",
   "execution_count": 3,
   "id": "9cd1694d",
   "metadata": {},
   "outputs": [],
   "source": [
    "df=pd.read_csv(\"predictive_maintenance.csv\")"
   ]
  },
  {
   "cell_type": "code",
   "execution_count": null,
   "id": "6d349303",
   "metadata": {},
   "outputs": [],
   "source": []
  },
  {
   "cell_type": "code",
   "execution_count": 4,
   "id": "d9488250",
   "metadata": {},
   "outputs": [
    {
     "data": {
      "text/plain": [
       "Index(['UDI', 'Product ID', 'Type', 'Air temperature [K]',\n",
       "       'Process temperature [K]', 'Rotational speed [rpm]', 'Torque [Nm]',\n",
       "       'Tool wear [min]', 'Target', 'Failure Type'],\n",
       "      dtype='object')"
      ]
     },
     "execution_count": 4,
     "metadata": {},
     "output_type": "execute_result"
    }
   ],
   "source": [
    "df.columns"
   ]
  },
  {
   "cell_type": "code",
   "execution_count": 5,
   "id": "7b0137f7",
   "metadata": {},
   "outputs": [],
   "source": [
    "df=df.drop([\"UDI\",\"Product ID\"],axis=1)"
   ]
  },
  {
   "cell_type": "code",
   "execution_count": 6,
   "id": "b41184f8",
   "metadata": {},
   "outputs": [
    {
     "data": {
      "text/plain": [
       "(10000, 8)"
      ]
     },
     "execution_count": 6,
     "metadata": {},
     "output_type": "execute_result"
    }
   ],
   "source": [
    "df.shape"
   ]
  },
  {
   "cell_type": "code",
   "execution_count": 7,
   "id": "c96ea055",
   "metadata": {},
   "outputs": [],
   "source": [
    "## Converting temperature in centigrate from Kelvin [1 K = -273.15 °C  ] \n",
    "\n",
    "df[\"Air temperature [K]\"] = df[\"Air temperature [K]\"] - 273.15\n",
    "df[\"Process temperature [K]\"] = df[\"Process temperature [K]\"] - 273.15\n",
    "\n",
    "# Renaming temperature in Centigrate(°C) from Kelvin (K)\n",
    "df.rename(columns={\"Air temperature [K]\" : \"Air temperature [°C]\",\"Process temperature [K]\" : \"Process temperature [°C]\"},inplace=True)"
   ]
  },
  {
   "cell_type": "code",
   "execution_count": 8,
   "id": "d384ab8c",
   "metadata": {},
   "outputs": [
    {
     "data": {
      "text/html": [
       "<div>\n",
       "<style scoped>\n",
       "    .dataframe tbody tr th:only-of-type {\n",
       "        vertical-align: middle;\n",
       "    }\n",
       "\n",
       "    .dataframe tbody tr th {\n",
       "        vertical-align: top;\n",
       "    }\n",
       "\n",
       "    .dataframe thead th {\n",
       "        text-align: right;\n",
       "    }\n",
       "</style>\n",
       "<table border=\"1\" class=\"dataframe\">\n",
       "  <thead>\n",
       "    <tr style=\"text-align: right;\">\n",
       "      <th></th>\n",
       "      <th>Type</th>\n",
       "      <th>Air temperature [°C]</th>\n",
       "      <th>Process temperature [°C]</th>\n",
       "      <th>Rotational speed [rpm]</th>\n",
       "      <th>Torque [Nm]</th>\n",
       "      <th>Tool wear [min]</th>\n",
       "      <th>Target</th>\n",
       "      <th>Failure Type</th>\n",
       "      <th>Temperature difference [°C]</th>\n",
       "    </tr>\n",
       "  </thead>\n",
       "  <tbody>\n",
       "    <tr>\n",
       "      <th>122</th>\n",
       "      <td>L</td>\n",
       "      <td>25.85</td>\n",
       "      <td>35.65</td>\n",
       "      <td>1310</td>\n",
       "      <td>50.7</td>\n",
       "      <td>112</td>\n",
       "      <td>0</td>\n",
       "      <td>No Failure</td>\n",
       "      <td>9.8</td>\n",
       "    </tr>\n",
       "    <tr>\n",
       "      <th>4639</th>\n",
       "      <td>L</td>\n",
       "      <td>29.95</td>\n",
       "      <td>38.15</td>\n",
       "      <td>1657</td>\n",
       "      <td>31.8</td>\n",
       "      <td>217</td>\n",
       "      <td>0</td>\n",
       "      <td>No Failure</td>\n",
       "      <td>8.2</td>\n",
       "    </tr>\n",
       "    <tr>\n",
       "      <th>1164</th>\n",
       "      <td>L</td>\n",
       "      <td>23.95</td>\n",
       "      <td>34.95</td>\n",
       "      <td>1754</td>\n",
       "      <td>30.3</td>\n",
       "      <td>206</td>\n",
       "      <td>0</td>\n",
       "      <td>No Failure</td>\n",
       "      <td>11.0</td>\n",
       "    </tr>\n",
       "    <tr>\n",
       "      <th>6187</th>\n",
       "      <td>L</td>\n",
       "      <td>27.85</td>\n",
       "      <td>37.85</td>\n",
       "      <td>1437</td>\n",
       "      <td>56.0</td>\n",
       "      <td>33</td>\n",
       "      <td>0</td>\n",
       "      <td>No Failure</td>\n",
       "      <td>10.0</td>\n",
       "    </tr>\n",
       "    <tr>\n",
       "      <th>5773</th>\n",
       "      <td>H</td>\n",
       "      <td>28.45</td>\n",
       "      <td>38.05</td>\n",
       "      <td>1395</td>\n",
       "      <td>46.8</td>\n",
       "      <td>95</td>\n",
       "      <td>0</td>\n",
       "      <td>No Failure</td>\n",
       "      <td>9.6</td>\n",
       "    </tr>\n",
       "  </tbody>\n",
       "</table>\n",
       "</div>"
      ],
      "text/plain": [
       "     Type  Air temperature [°C]  Process temperature [°C]  \\\n",
       "122     L                 25.85                     35.65   \n",
       "4639    L                 29.95                     38.15   \n",
       "1164    L                 23.95                     34.95   \n",
       "6187    L                 27.85                     37.85   \n",
       "5773    H                 28.45                     38.05   \n",
       "\n",
       "      Rotational speed [rpm]  Torque [Nm]  Tool wear [min]  Target  \\\n",
       "122                     1310         50.7              112       0   \n",
       "4639                    1657         31.8              217       0   \n",
       "1164                    1754         30.3              206       0   \n",
       "6187                    1437         56.0               33       0   \n",
       "5773                    1395         46.8               95       0   \n",
       "\n",
       "     Failure Type  Temperature difference [°C]  \n",
       "122    No Failure                          9.8  \n",
       "4639   No Failure                          8.2  \n",
       "1164   No Failure                         11.0  \n",
       "6187   No Failure                         10.0  \n",
       "5773   No Failure                          9.6  "
      ]
     },
     "execution_count": 8,
     "metadata": {},
     "output_type": "execute_result"
    }
   ],
   "source": [
    "df[\"Temperature difference [°C]\"] = df[\"Process temperature [°C]\"] - df[\"Air temperature [°C]\"]\n",
    "df.sample(5)"
   ]
  },
  {
   "cell_type": "code",
   "execution_count": 9,
   "id": "314621ca",
   "metadata": {},
   "outputs": [
    {
     "data": {
      "text/plain": [
       "Type                           0\n",
       "Air temperature [°C]           0\n",
       "Process temperature [°C]       0\n",
       "Rotational speed [rpm]         0\n",
       "Torque [Nm]                    0\n",
       "Tool wear [min]                0\n",
       "Target                         0\n",
       "Failure Type                   0\n",
       "Temperature difference [°C]    0\n",
       "dtype: int64"
      ]
     },
     "execution_count": 9,
     "metadata": {},
     "output_type": "execute_result"
    }
   ],
   "source": [
    "## check for missing values\n",
    "df.isnull().sum()"
   ]
  },
  {
   "cell_type": "code",
   "execution_count": 10,
   "id": "c0c77410",
   "metadata": {},
   "outputs": [
    {
     "data": {
      "text/plain": [
       "Type                            object\n",
       "Air temperature [°C]           float64\n",
       "Process temperature [°C]       float64\n",
       "Rotational speed [rpm]           int64\n",
       "Torque [Nm]                    float64\n",
       "Tool wear [min]                  int64\n",
       "Target                           int64\n",
       "Failure Type                    object\n",
       "Temperature difference [°C]    float64\n",
       "dtype: object"
      ]
     },
     "execution_count": 10,
     "metadata": {},
     "output_type": "execute_result"
    }
   ],
   "source": [
    "df.dtypes"
   ]
  },
  {
   "cell_type": "code",
   "execution_count": 11,
   "id": "5be9aee6",
   "metadata": {},
   "outputs": [
    {
     "data": {
      "text/html": [
       "<div>\n",
       "<style scoped>\n",
       "    .dataframe tbody tr th:only-of-type {\n",
       "        vertical-align: middle;\n",
       "    }\n",
       "\n",
       "    .dataframe tbody tr th {\n",
       "        vertical-align: top;\n",
       "    }\n",
       "\n",
       "    .dataframe thead th {\n",
       "        text-align: right;\n",
       "    }\n",
       "</style>\n",
       "<table border=\"1\" class=\"dataframe\">\n",
       "  <thead>\n",
       "    <tr style=\"text-align: right;\">\n",
       "      <th></th>\n",
       "      <th>Air temperature [°C]</th>\n",
       "      <th>Process temperature [°C]</th>\n",
       "      <th>Rotational speed [rpm]</th>\n",
       "      <th>Torque [Nm]</th>\n",
       "      <th>Tool wear [min]</th>\n",
       "      <th>Target</th>\n",
       "      <th>Temperature difference [°C]</th>\n",
       "    </tr>\n",
       "  </thead>\n",
       "  <tbody>\n",
       "    <tr>\n",
       "      <th>count</th>\n",
       "      <td>10000.000000</td>\n",
       "      <td>10000.000000</td>\n",
       "      <td>10000.000000</td>\n",
       "      <td>10000.000000</td>\n",
       "      <td>10000.000000</td>\n",
       "      <td>10000.000000</td>\n",
       "      <td>10000.000000</td>\n",
       "    </tr>\n",
       "    <tr>\n",
       "      <th>mean</th>\n",
       "      <td>26.854930</td>\n",
       "      <td>36.855560</td>\n",
       "      <td>1538.776100</td>\n",
       "      <td>39.986910</td>\n",
       "      <td>107.951000</td>\n",
       "      <td>0.033900</td>\n",
       "      <td>10.000630</td>\n",
       "    </tr>\n",
       "    <tr>\n",
       "      <th>std</th>\n",
       "      <td>2.000259</td>\n",
       "      <td>1.483734</td>\n",
       "      <td>179.284096</td>\n",
       "      <td>9.968934</td>\n",
       "      <td>63.654147</td>\n",
       "      <td>0.180981</td>\n",
       "      <td>1.001094</td>\n",
       "    </tr>\n",
       "    <tr>\n",
       "      <th>min</th>\n",
       "      <td>22.150000</td>\n",
       "      <td>32.550000</td>\n",
       "      <td>1168.000000</td>\n",
       "      <td>3.800000</td>\n",
       "      <td>0.000000</td>\n",
       "      <td>0.000000</td>\n",
       "      <td>7.600000</td>\n",
       "    </tr>\n",
       "    <tr>\n",
       "      <th>25%</th>\n",
       "      <td>25.150000</td>\n",
       "      <td>35.650000</td>\n",
       "      <td>1423.000000</td>\n",
       "      <td>33.200000</td>\n",
       "      <td>53.000000</td>\n",
       "      <td>0.000000</td>\n",
       "      <td>9.300000</td>\n",
       "    </tr>\n",
       "    <tr>\n",
       "      <th>50%</th>\n",
       "      <td>26.950000</td>\n",
       "      <td>36.950000</td>\n",
       "      <td>1503.000000</td>\n",
       "      <td>40.100000</td>\n",
       "      <td>108.000000</td>\n",
       "      <td>0.000000</td>\n",
       "      <td>9.800000</td>\n",
       "    </tr>\n",
       "    <tr>\n",
       "      <th>75%</th>\n",
       "      <td>28.350000</td>\n",
       "      <td>37.950000</td>\n",
       "      <td>1612.000000</td>\n",
       "      <td>46.800000</td>\n",
       "      <td>162.000000</td>\n",
       "      <td>0.000000</td>\n",
       "      <td>11.000000</td>\n",
       "    </tr>\n",
       "    <tr>\n",
       "      <th>max</th>\n",
       "      <td>31.350000</td>\n",
       "      <td>40.650000</td>\n",
       "      <td>2886.000000</td>\n",
       "      <td>76.600000</td>\n",
       "      <td>253.000000</td>\n",
       "      <td>1.000000</td>\n",
       "      <td>12.100000</td>\n",
       "    </tr>\n",
       "  </tbody>\n",
       "</table>\n",
       "</div>"
      ],
      "text/plain": [
       "       Air temperature [°C]  Process temperature [°C]  Rotational speed [rpm]  \\\n",
       "count          10000.000000              10000.000000            10000.000000   \n",
       "mean              26.854930                 36.855560             1538.776100   \n",
       "std                2.000259                  1.483734              179.284096   \n",
       "min               22.150000                 32.550000             1168.000000   \n",
       "25%               25.150000                 35.650000             1423.000000   \n",
       "50%               26.950000                 36.950000             1503.000000   \n",
       "75%               28.350000                 37.950000             1612.000000   \n",
       "max               31.350000                 40.650000             2886.000000   \n",
       "\n",
       "        Torque [Nm]  Tool wear [min]        Target  \\\n",
       "count  10000.000000     10000.000000  10000.000000   \n",
       "mean      39.986910       107.951000      0.033900   \n",
       "std        9.968934        63.654147      0.180981   \n",
       "min        3.800000         0.000000      0.000000   \n",
       "25%       33.200000        53.000000      0.000000   \n",
       "50%       40.100000       108.000000      0.000000   \n",
       "75%       46.800000       162.000000      0.000000   \n",
       "max       76.600000       253.000000      1.000000   \n",
       "\n",
       "       Temperature difference [°C]  \n",
       "count                 10000.000000  \n",
       "mean                     10.000630  \n",
       "std                       1.001094  \n",
       "min                       7.600000  \n",
       "25%                       9.300000  \n",
       "50%                       9.800000  \n",
       "75%                      11.000000  \n",
       "max                      12.100000  "
      ]
     },
     "execution_count": 11,
     "metadata": {},
     "output_type": "execute_result"
    }
   ],
   "source": [
    "df.describe()"
   ]
  },
  {
   "cell_type": "code",
   "execution_count": 12,
   "id": "5c2b9f69",
   "metadata": {},
   "outputs": [
    {
     "data": {
      "text/plain": [
       "0    9661\n",
       "1     339\n",
       "Name: Target, dtype: int64"
      ]
     },
     "execution_count": 12,
     "metadata": {},
     "output_type": "execute_result"
    }
   ],
   "source": [
    "df[\"Target\"].value_counts()"
   ]
  },
  {
   "cell_type": "code",
   "execution_count": 13,
   "id": "52205888",
   "metadata": {},
   "outputs": [
    {
     "data": {
      "text/plain": [
       "No Failure                  9652\n",
       "Heat Dissipation Failure     112\n",
       "Power Failure                 95\n",
       "Overstrain Failure            78\n",
       "Tool Wear Failure             45\n",
       "Random Failures               18\n",
       "Name: Failure Type, dtype: int64"
      ]
     },
     "execution_count": 13,
     "metadata": {},
     "output_type": "execute_result"
    }
   ],
   "source": [
    "df[\"Failure Type\"].value_counts()"
   ]
  },
  {
   "cell_type": "code",
   "execution_count": 14,
   "id": "cc07484d",
   "metadata": {},
   "outputs": [
    {
     "data": {
      "text/plain": [
       "Type                            object\n",
       "Air temperature [°C]           float64\n",
       "Process temperature [°C]       float64\n",
       "Rotational speed [rpm]           int64\n",
       "Torque [Nm]                    float64\n",
       "Tool wear [min]                  int64\n",
       "Target                           int64\n",
       "Failure Type                    object\n",
       "Temperature difference [°C]    float64\n",
       "dtype: object"
      ]
     },
     "execution_count": 14,
     "metadata": {},
     "output_type": "execute_result"
    }
   ],
   "source": [
    "df.dtypes"
   ]
  },
  {
   "cell_type": "code",
   "execution_count": 15,
   "id": "9215b4d7",
   "metadata": {},
   "outputs": [],
   "source": [
    "from sklearn.preprocessing import LabelEncoder\n",
    "st=LabelEncoder()\n",
    "\n",
    "df[\"Type\"]=st.fit_transform(df[\"Type\"])"
   ]
  },
  {
   "cell_type": "code",
   "execution_count": 16,
   "id": "aaf7deba",
   "metadata": {},
   "outputs": [],
   "source": [
    "df[\"Failure Type\"]=st.fit_transform(df[\"Failure Type\"])"
   ]
  },
  {
   "cell_type": "code",
   "execution_count": 17,
   "id": "a72e4385",
   "metadata": {},
   "outputs": [
    {
     "data": {
      "text/plain": [
       "Type                             int32\n",
       "Air temperature [°C]           float64\n",
       "Process temperature [°C]       float64\n",
       "Rotational speed [rpm]           int64\n",
       "Torque [Nm]                    float64\n",
       "Tool wear [min]                  int64\n",
       "Target                           int64\n",
       "Failure Type                     int32\n",
       "Temperature difference [°C]    float64\n",
       "dtype: object"
      ]
     },
     "execution_count": 17,
     "metadata": {},
     "output_type": "execute_result"
    }
   ],
   "source": [
    "df.dtypes"
   ]
  },
  {
   "cell_type": "code",
   "execution_count": null,
   "id": "5cc2bd63",
   "metadata": {},
   "outputs": [],
   "source": []
  }
 ],
 "metadata": {
  "kernelspec": {
   "display_name": "Python 3 (ipykernel)",
   "language": "python",
   "name": "python3"
  },
  "language_info": {
   "codemirror_mode": {
    "name": "ipython",
    "version": 3
   },
   "file_extension": ".py",
   "mimetype": "text/x-python",
   "name": "python",
   "nbconvert_exporter": "python",
   "pygments_lexer": "ipython3",
   "version": "3.10.9"
  }
 },
 "nbformat": 4,
 "nbformat_minor": 5
}
